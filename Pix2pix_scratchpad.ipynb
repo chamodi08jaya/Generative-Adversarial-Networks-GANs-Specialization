{
  "nbformat": 4,
  "nbformat_minor": 0,
  "metadata": {
    "colab": {
      "name": "Pix2pix scratchpad",
      "provenance": [],
      "collapsed_sections": [],
      "include_colab_link": true
    },
    "kernelspec": {
      "display_name": "Python 2",
      "name": "python2"
    },
    "accelerator": "GPU"
  },
  "cells": [
    {
      "cell_type": "markdown",
      "metadata": {
        "id": "view-in-github",
        "colab_type": "text"
      },
      "source": [
        "<a href=\"https://colab.research.google.com/github/chamodi08jaya/Generative-Adversarial-Networks-GANs-Specialization/blob/main/Pix2pix_scratchpad.ipynb\" target=\"_parent\"><img src=\"https://colab.research.google.com/assets/colab-badge.svg\" alt=\"Open In Colab\"/></a>"
      ]
    },
    {
      "cell_type": "code",
      "metadata": {
        "id": "lIYdn1woOS1n",
        "colab": {
          "base_uri": "https://localhost:8080/"
        },
        "outputId": "b2bf8a0e-bf29-4fcc-c731-30d4ef2a8d3e"
      },
      "source": [
        "!python --version"
      ],
      "execution_count": 1,
      "outputs": [
        {
          "output_type": "stream",
          "name": "stdout",
          "text": [
            "Python 2.7.17\n"
          ]
        }
      ]
    },
    {
      "cell_type": "code",
      "metadata": {
        "colab": {
          "base_uri": "https://localhost:8080/"
        },
        "id": "JI63toVzLx4V",
        "outputId": "cee3a4ce-b23e-46f2-e637-42c9c53e6ae4"
      },
      "source": [
        "from google.colab import drive\n",
        "drive.mount('/content/drive')"
      ],
      "execution_count": 2,
      "outputs": [
        {
          "output_type": "stream",
          "name": "stdout",
          "text": [
            "Drive already mounted at /content/drive; to attempt to forcibly remount, call drive.mount(\"/content/drive\", force_remount=True).\n"
          ]
        }
      ]
    },
    {
      "cell_type": "code",
      "metadata": {
        "colab": {
          "base_uri": "https://localhost:8080/"
        },
        "id": "bHZgi79gL8rq",
        "outputId": "00156cee-5d8f-4621-931b-2f8c381fc167"
      },
      "source": [
        "%cd /content/drive/My Drive/Guided-pix2pix"
      ],
      "execution_count": 3,
      "outputs": [
        {
          "output_type": "stream",
          "name": "stdout",
          "text": [
            "/content/drive/My Drive/Guided-pix2pix\n"
          ]
        }
      ]
    },
    {
      "cell_type": "code",
      "metadata": {
        "colab": {
          "base_uri": "https://localhost:8080/"
        },
        "id": "PvVuW6d3oruL",
        "outputId": "d41e6865-bb67-4625-de74-6cdf3ebb8c46"
      },
      "source": [
        "!nvcc --version"
      ],
      "execution_count": 4,
      "outputs": [
        {
          "output_type": "stream",
          "name": "stdout",
          "text": [
            "nvcc: NVIDIA (R) Cuda compiler driver\n",
            "Copyright (c) 2005-2016 NVIDIA Corporation\n",
            "Built on Tue_Jan_10_13:22:03_CST_2017\n",
            "Cuda compilation tools, release 8.0, V8.0.61\n"
          ]
        }
      ]
    },
    {
      "cell_type": "code",
      "metadata": {
        "colab": {
          "base_uri": "https://localhost:8080/"
        },
        "id": "XOgBLQEtpZ6Q",
        "outputId": "add0e263-b4b5-4a42-de35-be613a7152c9"
      },
      "source": [
        "!wget https://developer.nvidia.com/compute/cuda/8.0/Prod2/local_installers/cuda-repo-ubuntu1604-8-0-local-ga2_8.0.61-1_amd64-deb\n",
        "!dpkg -i cuda-repo-ubuntu1604-8-0-local-ga2_8.0.61-1_amd64-deb\n",
        "\n",
        "!apt-key add /var/cuda-repo-8-0-local-ga2/7fa2af80.pub\n",
        "!apt-get update\n",
        "!apt-get install cuda=8.0.61-1\n",
        "!apt autoremove"
      ],
      "execution_count": 5,
      "outputs": [
        {
          "output_type": "stream",
          "name": "stdout",
          "text": [
            "--2021-09-20 22:02:19--  https://developer.nvidia.com/compute/cuda/8.0/Prod2/local_installers/cuda-repo-ubuntu1604-8-0-local-ga2_8.0.61-1_amd64-deb\n",
            "Resolving developer.nvidia.com (developer.nvidia.com)... 152.195.19.142\n",
            "Connecting to developer.nvidia.com (developer.nvidia.com)|152.195.19.142|:443... connected.\n",
            "HTTP request sent, awaiting response... 301 Moved Permanently\n",
            "Location: https://developer.nvidia.com/compute/cuda/8.0/prod2/local_installers/cuda-repo-ubuntu1604-8-0-local-ga2_8.0.61-1_amd64-deb [following]\n",
            "--2021-09-20 22:02:19--  https://developer.nvidia.com/compute/cuda/8.0/prod2/local_installers/cuda-repo-ubuntu1604-8-0-local-ga2_8.0.61-1_amd64-deb\n",
            "Reusing existing connection to developer.nvidia.com:443.\n",
            "HTTP request sent, awaiting response... 302 Found\n",
            "Location: https://developer.download.nvidia.com/compute/cuda/8.0/secure/Prod2/local_installers/cuda-repo-ubuntu1604-8-0-local-ga2_8.0.61-1_amd64.deb?oO-5CkjDchJujnB5be9bNSdSXh4Ml4OgG5DMvs9DeDnE59na3qt1_G3tG21psUSmD2oGWphRYQpAiNSVbxw_CvXTacC3JLEvXQGWLxYarwAtJKDZ_8A27wKH1TGfmGwKAVKSJwGzlWFwHOqGUD02PPWOL3889WnoFD1FaxtznzbVnmGQy1jP4Z3V4xB8L6zcN_odF7l16SCDf4DOqO3gOn8ZvA [following]\n",
            "--2021-09-20 22:02:19--  https://developer.download.nvidia.com/compute/cuda/8.0/secure/Prod2/local_installers/cuda-repo-ubuntu1604-8-0-local-ga2_8.0.61-1_amd64.deb?oO-5CkjDchJujnB5be9bNSdSXh4Ml4OgG5DMvs9DeDnE59na3qt1_G3tG21psUSmD2oGWphRYQpAiNSVbxw_CvXTacC3JLEvXQGWLxYarwAtJKDZ_8A27wKH1TGfmGwKAVKSJwGzlWFwHOqGUD02PPWOL3889WnoFD1FaxtznzbVnmGQy1jP4Z3V4xB8L6zcN_odF7l16SCDf4DOqO3gOn8ZvA\n",
            "Resolving developer.download.nvidia.com (developer.download.nvidia.com)... 152.195.19.142\n",
            "Connecting to developer.download.nvidia.com (developer.download.nvidia.com)|152.195.19.142|:443... connected.\n",
            "HTTP request sent, awaiting response... 200 OK\n",
            "Length: 1913589814 (1.8G) [application/x-deb]\n",
            "Saving to: ‘cuda-repo-ubuntu1604-8-0-local-ga2_8.0.61-1_amd64-deb.4’\n",
            "\n",
            "cuda-repo-ubuntu160 100%[===================>]   1.78G  41.6MB/s    in 62s     \n",
            "\n",
            "2021-09-20 22:03:21 (29.5 MB/s) - ‘cuda-repo-ubuntu1604-8-0-local-ga2_8.0.61-1_amd64-deb.4’ saved [1913589814/1913589814]\n",
            "\n",
            "(Reading database ... 164108 files and directories currently installed.)\n",
            "Preparing to unpack cuda-repo-ubuntu1604-8-0-local-ga2_8.0.61-1_amd64-deb ...\n",
            "Unpacking cuda-repo-ubuntu1604-8-0-local-ga2 (8.0.61-1) over (8.0.61-1) ...\n",
            "Setting up cuda-repo-ubuntu1604-8-0-local-ga2 (8.0.61-1) ...\n",
            "Warning: The postinst maintainerscript of the package cuda-repo-ubuntu1604-8-0-local-ga2\n",
            "Warning: seems to use apt-key (provided by apt) without depending on gnupg or gnupg2.\n",
            "Warning: This will BREAK in the future and should be fixed by the package maintainer(s).\n",
            "Note: Check first if apt-key functionality is needed at all - it probably isn't!\n",
            "Warning: apt-key should not be used in scripts (called from postinst maintainerscript of the package cuda-repo-ubuntu1604-8-0-local-ga2)\n",
            "OK\n",
            "OK\n",
            "Get:1 file:/var/cuda-repo-8-0-local-ga2  InRelease\n",
            "Ign:1 file:/var/cuda-repo-8-0-local-ga2  InRelease\n",
            "Get:2 file:/var/cuda-repo-8-0-local-ga2  Release [574 B]\n",
            "Get:2 file:/var/cuda-repo-8-0-local-ga2  Release [574 B]\n",
            "Hit:3 http://security.ubuntu.com/ubuntu bionic-security InRelease\n",
            "Hit:4 https://cloud.r-project.org/bin/linux/ubuntu bionic-cran40/ InRelease\n",
            "Ign:5 https://developer.download.nvidia.com/compute/cuda/repos/ubuntu1804/x86_64  InRelease\n",
            "Ign:6 https://developer.download.nvidia.com/compute/machine-learning/repos/ubuntu1804/x86_64  InRelease\n",
            "Hit:7 https://developer.download.nvidia.com/compute/cuda/repos/ubuntu1804/x86_64  Release\n",
            "Hit:8 http://ppa.launchpad.net/c2d4u.team/c2d4u4.0+/ubuntu bionic InRelease\n",
            "Hit:9 https://developer.download.nvidia.com/compute/machine-learning/repos/ubuntu1804/x86_64  Release\n",
            "Hit:11 http://archive.ubuntu.com/ubuntu bionic InRelease\n",
            "Hit:12 http://archive.ubuntu.com/ubuntu bionic-updates InRelease\n",
            "Hit:13 http://ppa.launchpad.net/cran/libgit2/ubuntu bionic InRelease\n",
            "Hit:14 http://archive.ubuntu.com/ubuntu bionic-backports InRelease\n",
            "Hit:15 http://ppa.launchpad.net/deadsnakes/ppa/ubuntu bionic InRelease\n",
            "Hit:17 http://ppa.launchpad.net/graphics-drivers/ppa/ubuntu bionic InRelease\n",
            "Reading package lists... Done\n",
            "Reading package lists... Done\n",
            "Building dependency tree       \n",
            "Reading state information... Done\n",
            "cuda is already the newest version (8.0.61-1).\n",
            "0 upgraded, 0 newly installed, 0 to remove and 56 not upgraded.\n",
            "Reading package lists... Done\n",
            "Building dependency tree       \n",
            "Reading state information... Done\n",
            "0 upgraded, 0 newly installed, 0 to remove and 57 not upgraded.\n"
          ]
        }
      ]
    },
    {
      "cell_type": "code",
      "metadata": {
        "colab": {
          "base_uri": "https://localhost:8080/"
        },
        "id": "OWCpLu3wqFJO",
        "outputId": "6502f278-bd53-41be-a200-2396c956c7ed"
      },
      "source": [
        "!nvcc --version"
      ],
      "execution_count": 6,
      "outputs": [
        {
          "output_type": "stream",
          "name": "stdout",
          "text": [
            "nvcc: NVIDIA (R) Cuda compiler driver\n",
            "Copyright (c) 2005-2016 NVIDIA Corporation\n",
            "Built on Tue_Jan_10_13:22:03_CST_2017\n",
            "Cuda compilation tools, release 8.0, V8.0.61\n"
          ]
        }
      ]
    },
    {
      "cell_type": "code",
      "metadata": {
        "id": "YFLcITC6p3-d"
      },
      "source": [
        "import torch"
      ],
      "execution_count": 7,
      "outputs": []
    },
    {
      "cell_type": "code",
      "metadata": {
        "colab": {
          "base_uri": "https://localhost:8080/"
        },
        "id": "DLIZdRnuqRxx",
        "outputId": "ade85333-a968-471f-a5b0-8652bf7af996"
      },
      "source": [
        "print(torch.__version__)"
      ],
      "execution_count": 8,
      "outputs": [
        {
          "output_type": "stream",
          "name": "stdout",
          "text": [
            "0.4.1\n"
          ]
        }
      ]
    },
    {
      "cell_type": "code",
      "metadata": {
        "colab": {
          "base_uri": "https://localhost:8080/"
        },
        "id": "2cV6tbY6sX9P",
        "outputId": "e952d92d-2856-41aa-fce0-5bdea52a0f60"
      },
      "source": [
        "!pip install --trusted-host pypi.org --trusted-host files.pythonhosted.org torch===0.4.1 torchvision===0.4.2 -f https://download.pytorch.org/whl/torch_stable.html"
      ],
      "execution_count": 9,
      "outputs": [
        {
          "output_type": "stream",
          "name": "stdout",
          "text": [
            "Looking in links: https://download.pytorch.org/whl/torch_stable.html\n",
            "Requirement already satisfied: torch===0.4.1 in /usr/local/lib/python2.7/dist-packages (0.4.1)\n",
            "Collecting torchvision===0.4.2\n",
            "\u001b[?25l  Downloading https://files.pythonhosted.org/packages/2e/d8/468c76bca1f06660f5eb5101d9d0c767bdc7fe1a8ffcaaf084d4d310cdcc/torchvision-0.4.2-cp27-cp27mu-manylinux1_x86_64.whl (10.1MB)\n",
            "\u001b[K     |████████████████████████████████| 10.1MB 4.7MB/s \n",
            "\u001b[?25hRequirement already satisfied: six in /usr/local/lib/python2.7/dist-packages (from torchvision===0.4.2) (1.15.0)\n",
            "Requirement already satisfied: numpy in /usr/local/lib/python2.7/dist-packages (from torchvision===0.4.2) (1.16.4)\n",
            "Requirement already satisfied: pillow>=4.1.1 in /usr/local/lib/python2.7/dist-packages (from torchvision===0.4.2) (4.3.0)\n",
            "Requirement already satisfied: olefile in /usr/local/lib/python2.7/dist-packages (from pillow>=4.1.1->torchvision===0.4.2) (0.46)\n",
            "\u001b[31mERROR: fastai 0.7.0 has requirement torch<0.4, but you'll have torch 0.4.1 which is incompatible.\u001b[0m\n",
            "\u001b[31mERROR: torchvision 0.4.2 has requirement torch==1.3.1, but you'll have torch 0.4.1 which is incompatible.\u001b[0m\n",
            "Installing collected packages: torchvision\n",
            "  Found existing installation: torchvision 0.2.1\n",
            "    Uninstalling torchvision-0.2.1:\n",
            "      Successfully uninstalled torchvision-0.2.1\n",
            "Successfully installed torchvision-0.4.2\n"
          ]
        }
      ]
    },
    {
      "cell_type": "code",
      "metadata": {
        "colab": {
          "base_uri": "https://localhost:8080/"
        },
        "id": "Zd7mYCyxvINj",
        "outputId": "bd46f7b0-04ff-4cae-a15e-ead9423c93ba"
      },
      "source": [
        "!pip install  torchvision==0.2.1"
      ],
      "execution_count": 10,
      "outputs": [
        {
          "output_type": "stream",
          "name": "stdout",
          "text": [
            "Collecting torchvision==0.2.1\n",
            "  Using cached https://files.pythonhosted.org/packages/ca/0d/f00b2885711e08bd71242ebe7b96561e6f6d01fdb4b9dcf4d37e2e13c5e1/torchvision-0.2.1-py2.py3-none-any.whl\n",
            "Requirement already satisfied: six in /usr/local/lib/python2.7/dist-packages (from torchvision==0.2.1) (1.15.0)\n",
            "Requirement already satisfied: numpy in /usr/local/lib/python2.7/dist-packages (from torchvision==0.2.1) (1.16.4)\n",
            "Requirement already satisfied: torch in /usr/local/lib/python2.7/dist-packages (from torchvision==0.2.1) (0.4.1)\n",
            "Requirement already satisfied: pillow>=4.1.1 in /usr/local/lib/python2.7/dist-packages (from torchvision==0.2.1) (4.3.0)\n",
            "Requirement already satisfied: olefile in /usr/local/lib/python2.7/dist-packages (from pillow>=4.1.1->torchvision==0.2.1) (0.46)\n",
            "\u001b[31mERROR: fastai 0.7.0 has requirement torch<0.4, but you'll have torch 0.4.1 which is incompatible.\u001b[0m\n",
            "Installing collected packages: torchvision\n",
            "  Found existing installation: torchvision 0.4.2\n",
            "    Uninstalling torchvision-0.4.2:\n",
            "      Successfully uninstalled torchvision-0.4.2\n",
            "Successfully installed torchvision-0.2.1\n"
          ]
        }
      ]
    },
    {
      "cell_type": "code",
      "metadata": {
        "colab": {
          "base_uri": "https://localhost:8080/"
        },
        "id": "xN9aKF_DopUQ",
        "outputId": "8309a7a1-38cc-4bd5-f4bd-354a9b015ce3"
      },
      "source": [
        "!python train.py --dataroot training_shoes_pretrain/ --name exp_name --netG bFT_unet --dataset_mode texture --input_nc 1 --guide_nc 4 --output_nc 3 --niter 100 --niter_decay 0 --batch_size 256 --lr 0.0002 --use_GAN --netD basic --n_layers 7 --beta1 .9 --checkpoints_dir ./texture_checkpoints\n"
      ],
      "execution_count": 20,
      "outputs": [
        {
          "output_type": "stream",
          "name": "stdout",
          "text": [
            "2021-09-20 22:25:45.725945: I tensorflow/core/platform/cpu_feature_guard.cc:137] Your CPU supports instructions that this TensorFlow binary was not compiled to use: SSE4.1 SSE4.2 AVX AVX2 FMA\n",
            "----------------- Options ---------------\n",
            "               batch_size: 256                           \t[default: 1]\n",
            "                    beta1: 0.9                           \t[default: 0.5]\n",
            "          checkpoints_dir: ./texture_checkpoints         \t[default: ./checkpoints]\n",
            "           continue_train: False                         \n",
            "                 dataroot: training_shoes_pretrain/      \t[default: None]\n",
            "             dataset_mode: texture                       \t[default: None]\n",
            "          depthTask_scale: 16                            \n",
            "                    epoch: latest                        \n",
            "              epoch_count: 1                             \n",
            "                  gpu_ids: 0                             \n",
            "                 guide_nc: 4                             \t[default: 3]\n",
            "                init_gain: 0.02                          \n",
            "                init_type: normal                        \n",
            "                 input_nc: 1                             \t[default: 3]\n",
            "      input_texture_patch: original_image                \n",
            "                  isTrain: True                          \t[default: None]\n",
            "                lambda_L1: 100                           \n",
            "                       lr: 0.0002                        \n",
            "           lr_decay_iters: 50                            \n",
            "                lr_policy: lambda                        \n",
            "         max_dataset_size: inf                           \n",
            "                    model: guided_pix2pix                \n",
            "                 n_layers: 7                             \t[default: 8]\n",
            "               n_layers_D: 3                             \n",
            "                     name: exp_name                      \t[default: experiment_name]\n",
            "                      ndf: 64                            \n",
            "                     netD: basic                         \n",
            "                     netG: bFT_unet                      \t[default: bFT_resnet]\n",
            "                      ngf: 64                            \n",
            "                    niter: 100                           \n",
            "              niter_decay: 0                             \t[default: 100]\n",
            "                 no_lsgan: False                         \n",
            "                     norm: instance                      \n",
            "  num_input_texture_patch: 1                             \n",
            "              num_threads: 4                             \n",
            "                output_nc: 3                             \n",
            "           patch_size_max: 40                            \n",
            "           patch_size_min: 20                            \n",
            "                    phase: train                         \n",
            "               print_freq: 5000                          \n",
            "          save_epoch_freq: 1                             \n",
            "         save_latest_freq: 5000                          \n",
            "           serial_batches: False                         \n",
            "                  use_GAN: True                          \t[default: False]\n",
            "   use_segmentation_patch: True                          \n",
            "----------------- End -------------------\n",
            "dataset [TextureDataset] was created\n",
            "#training images = 0\n",
            "initialize network with normal\n",
            "initialize network with normal\n",
            "model [GuidedPix2PixModel] was created\n",
            "---------- Networks initialized -------------\n",
            "[Network G] Total number of parameters : 54.516 M\n",
            "[Network D] Total number of parameters : 2.770 M\n",
            "-----------------------------------------------\n",
            "saving the model at the end of epoch 1, iters 0\n",
            "End of epoch 1 / 100 \t Time Taken: 1 sec\n",
            "learning rate = 0.0002000\n",
            "saving the model at the end of epoch 2, iters 0\n",
            "End of epoch 2 / 100 \t Time Taken: 1 sec\n",
            "learning rate = 0.0002000\n",
            "saving the model at the end of epoch 3, iters 0\n",
            "End of epoch 3 / 100 \t Time Taken: 1 sec\n",
            "learning rate = 0.0002000\n",
            "saving the model at the end of epoch 4, iters 0\n",
            "End of epoch 4 / 100 \t Time Taken: 1 sec\n",
            "learning rate = 0.0002000\n",
            "saving the model at the end of epoch 5, iters 0\n",
            "End of epoch 5 / 100 \t Time Taken: 1 sec\n",
            "learning rate = 0.0002000\n",
            "saving the model at the end of epoch 6, iters 0\n",
            "End of epoch 6 / 100 \t Time Taken: 1 sec\n",
            "learning rate = 0.0002000\n",
            "saving the model at the end of epoch 7, iters 0\n",
            "End of epoch 7 / 100 \t Time Taken: 1 sec\n",
            "learning rate = 0.0002000\n",
            "saving the model at the end of epoch 8, iters 0\n",
            "End of epoch 8 / 100 \t Time Taken: 9 sec\n",
            "learning rate = 0.0002000\n",
            "saving the model at the end of epoch 9, iters 0\n",
            "End of epoch 9 / 100 \t Time Taken: 1 sec\n",
            "learning rate = 0.0002000\n",
            "saving the model at the end of epoch 10, iters 0\n",
            "End of epoch 10 / 100 \t Time Taken: 8 sec\n",
            "learning rate = 0.0002000\n",
            "saving the model at the end of epoch 11, iters 0\n",
            "End of epoch 11 / 100 \t Time Taken: 7 sec\n",
            "learning rate = 0.0002000\n",
            "saving the model at the end of epoch 12, iters 0\n",
            "End of epoch 12 / 100 \t Time Taken: 2 sec\n",
            "learning rate = 0.0002000\n",
            "saving the model at the end of epoch 13, iters 0\n",
            "End of epoch 13 / 100 \t Time Taken: 2 sec\n",
            "learning rate = 0.0002000\n",
            "saving the model at the end of epoch 14, iters 0\n",
            "End of epoch 14 / 100 \t Time Taken: 11 sec\n",
            "learning rate = 0.0002000\n",
            "saving the model at the end of epoch 15, iters 0\n",
            "End of epoch 15 / 100 \t Time Taken: 3 sec\n",
            "learning rate = 0.0002000\n",
            "saving the model at the end of epoch 16, iters 0\n",
            "End of epoch 16 / 100 \t Time Taken: 10 sec\n",
            "learning rate = 0.0002000\n",
            "saving the model at the end of epoch 17, iters 0\n",
            "End of epoch 17 / 100 \t Time Taken: 8 sec\n",
            "learning rate = 0.0002000\n",
            "saving the model at the end of epoch 18, iters 0\n",
            "End of epoch 18 / 100 \t Time Taken: 10 sec\n",
            "learning rate = 0.0002000\n",
            "saving the model at the end of epoch 19, iters 0\n",
            "End of epoch 19 / 100 \t Time Taken: 11 sec\n",
            "learning rate = 0.0002000\n",
            "saving the model at the end of epoch 20, iters 0\n",
            "End of epoch 20 / 100 \t Time Taken: 14 sec\n",
            "learning rate = 0.0002000\n",
            "saving the model at the end of epoch 21, iters 0\n",
            "End of epoch 21 / 100 \t Time Taken: 9 sec\n",
            "learning rate = 0.0002000\n",
            "saving the model at the end of epoch 22, iters 0\n",
            "End of epoch 22 / 100 \t Time Taken: 9 sec\n",
            "learning rate = 0.0002000\n",
            "saving the model at the end of epoch 23, iters 0\n",
            "End of epoch 23 / 100 \t Time Taken: 13 sec\n",
            "learning rate = 0.0002000\n",
            "saving the model at the end of epoch 24, iters 0\n",
            "End of epoch 24 / 100 \t Time Taken: 10 sec\n",
            "learning rate = 0.0002000\n",
            "saving the model at the end of epoch 25, iters 0\n",
            "End of epoch 25 / 100 \t Time Taken: 10 sec\n",
            "learning rate = 0.0002000\n",
            "saving the model at the end of epoch 26, iters 0\n",
            "End of epoch 26 / 100 \t Time Taken: 9 sec\n",
            "learning rate = 0.0002000\n",
            "saving the model at the end of epoch 27, iters 0\n",
            "End of epoch 27 / 100 \t Time Taken: 11 sec\n",
            "learning rate = 0.0002000\n",
            "saving the model at the end of epoch 28, iters 0\n",
            "End of epoch 28 / 100 \t Time Taken: 9 sec\n",
            "learning rate = 0.0002000\n",
            "saving the model at the end of epoch 29, iters 0\n",
            "End of epoch 29 / 100 \t Time Taken: 9 sec\n",
            "learning rate = 0.0002000\n",
            "saving the model at the end of epoch 30, iters 0\n",
            "End of epoch 30 / 100 \t Time Taken: 10 sec\n",
            "learning rate = 0.0002000\n",
            "saving the model at the end of epoch 31, iters 0\n",
            "End of epoch 31 / 100 \t Time Taken: 11 sec\n",
            "learning rate = 0.0002000\n",
            "saving the model at the end of epoch 32, iters 0\n",
            "End of epoch 32 / 100 \t Time Taken: 12 sec\n",
            "learning rate = 0.0002000\n",
            "saving the model at the end of epoch 33, iters 0\n",
            "End of epoch 33 / 100 \t Time Taken: 6 sec\n",
            "learning rate = 0.0002000\n",
            "saving the model at the end of epoch 34, iters 0\n",
            "End of epoch 34 / 100 \t Time Taken: 11 sec\n",
            "learning rate = 0.0002000\n",
            "saving the model at the end of epoch 35, iters 0\n",
            "End of epoch 35 / 100 \t Time Taken: 10 sec\n",
            "learning rate = 0.0002000\n",
            "saving the model at the end of epoch 36, iters 0\n",
            "End of epoch 36 / 100 \t Time Taken: 14 sec\n",
            "learning rate = 0.0002000\n",
            "saving the model at the end of epoch 37, iters 0\n",
            "End of epoch 37 / 100 \t Time Taken: 4 sec\n",
            "learning rate = 0.0002000\n",
            "saving the model at the end of epoch 38, iters 0\n",
            "End of epoch 38 / 100 \t Time Taken: 11 sec\n",
            "learning rate = 0.0002000\n",
            "saving the model at the end of epoch 39, iters 0\n",
            "End of epoch 39 / 100 \t Time Taken: 9 sec\n",
            "learning rate = 0.0002000\n",
            "saving the model at the end of epoch 40, iters 0\n",
            "End of epoch 40 / 100 \t Time Taken: 12 sec\n",
            "learning rate = 0.0002000\n",
            "saving the model at the end of epoch 41, iters 0\n",
            "End of epoch 41 / 100 \t Time Taken: 10 sec\n",
            "learning rate = 0.0002000\n",
            "saving the model at the end of epoch 42, iters 0\n",
            "End of epoch 42 / 100 \t Time Taken: 10 sec\n",
            "learning rate = 0.0002000\n",
            "saving the model at the end of epoch 43, iters 0\n",
            "End of epoch 43 / 100 \t Time Taken: 10 sec\n",
            "learning rate = 0.0002000\n",
            "saving the model at the end of epoch 44, iters 0\n",
            "End of epoch 44 / 100 \t Time Taken: 11 sec\n",
            "learning rate = 0.0002000\n",
            "saving the model at the end of epoch 45, iters 0\n",
            "End of epoch 45 / 100 \t Time Taken: 10 sec\n",
            "learning rate = 0.0002000\n",
            "saving the model at the end of epoch 46, iters 0\n",
            "End of epoch 46 / 100 \t Time Taken: 10 sec\n",
            "learning rate = 0.0002000\n",
            "saving the model at the end of epoch 47, iters 0\n",
            "End of epoch 47 / 100 \t Time Taken: 10 sec\n",
            "learning rate = 0.0002000\n",
            "saving the model at the end of epoch 48, iters 0\n",
            "End of epoch 48 / 100 \t Time Taken: 10 sec\n",
            "learning rate = 0.0002000\n",
            "saving the model at the end of epoch 49, iters 0\n",
            "End of epoch 49 / 100 \t Time Taken: 10 sec\n",
            "learning rate = 0.0002000\n",
            "saving the model at the end of epoch 50, iters 0\n",
            "End of epoch 50 / 100 \t Time Taken: 11 sec\n",
            "learning rate = 0.0002000\n",
            "saving the model at the end of epoch 51, iters 0\n",
            "End of epoch 51 / 100 \t Time Taken: 10 sec\n",
            "learning rate = 0.0002000\n",
            "saving the model at the end of epoch 52, iters 0\n",
            "End of epoch 52 / 100 \t Time Taken: 1 sec\n",
            "learning rate = 0.0002000\n",
            "saving the model at the end of epoch 53, iters 0\n",
            "End of epoch 53 / 100 \t Time Taken: 5 sec\n",
            "learning rate = 0.0002000\n",
            "saving the model at the end of epoch 54, iters 0\n",
            "End of epoch 54 / 100 \t Time Taken: 9 sec\n",
            "learning rate = 0.0002000\n",
            "saving the model at the end of epoch 55, iters 0\n",
            "End of epoch 55 / 100 \t Time Taken: 1 sec\n",
            "learning rate = 0.0002000\n",
            "saving the model at the end of epoch 56, iters 0\n",
            "End of epoch 56 / 100 \t Time Taken: 9 sec\n",
            "learning rate = 0.0002000\n",
            "saving the model at the end of epoch 57, iters 0\n",
            "End of epoch 57 / 100 \t Time Taken: 1 sec\n",
            "learning rate = 0.0002000\n",
            "saving the model at the end of epoch 58, iters 0\n",
            "End of epoch 58 / 100 \t Time Taken: 8 sec\n",
            "learning rate = 0.0002000\n",
            "saving the model at the end of epoch 59, iters 0\n",
            "End of epoch 59 / 100 \t Time Taken: 3 sec\n",
            "learning rate = 0.0002000\n",
            "saving the model at the end of epoch 60, iters 0\n",
            "End of epoch 60 / 100 \t Time Taken: 3 sec\n",
            "learning rate = 0.0002000\n",
            "saving the model at the end of epoch 61, iters 0\n",
            "End of epoch 61 / 100 \t Time Taken: 5 sec\n",
            "learning rate = 0.0002000\n",
            "saving the model at the end of epoch 62, iters 0\n",
            "End of epoch 62 / 100 \t Time Taken: 5 sec\n",
            "learning rate = 0.0002000\n",
            "saving the model at the end of epoch 63, iters 0\n",
            "End of epoch 63 / 100 \t Time Taken: 5 sec\n",
            "learning rate = 0.0002000\n",
            "saving the model at the end of epoch 64, iters 0\n",
            "End of epoch 64 / 100 \t Time Taken: 5 sec\n",
            "learning rate = 0.0002000\n",
            "saving the model at the end of epoch 65, iters 0\n",
            "End of epoch 65 / 100 \t Time Taken: 9 sec\n",
            "learning rate = 0.0002000\n",
            "saving the model at the end of epoch 66, iters 0\n",
            "End of epoch 66 / 100 \t Time Taken: 6 sec\n",
            "learning rate = 0.0002000\n",
            "saving the model at the end of epoch 67, iters 0\n",
            "End of epoch 67 / 100 \t Time Taken: 1 sec\n",
            "learning rate = 0.0002000\n",
            "saving the model at the end of epoch 68, iters 0\n",
            "End of epoch 68 / 100 \t Time Taken: 4 sec\n",
            "learning rate = 0.0002000\n",
            "saving the model at the end of epoch 69, iters 0\n",
            "End of epoch 69 / 100 \t Time Taken: 6 sec\n",
            "learning rate = 0.0002000\n",
            "saving the model at the end of epoch 70, iters 0\n",
            "End of epoch 70 / 100 \t Time Taken: 8 sec\n",
            "learning rate = 0.0002000\n",
            "saving the model at the end of epoch 71, iters 0\n",
            "End of epoch 71 / 100 \t Time Taken: 4 sec\n",
            "learning rate = 0.0002000\n",
            "saving the model at the end of epoch 72, iters 0\n",
            "End of epoch 72 / 100 \t Time Taken: 2 sec\n",
            "learning rate = 0.0002000\n",
            "saving the model at the end of epoch 73, iters 0\n",
            "End of epoch 73 / 100 \t Time Taken: 8 sec\n",
            "learning rate = 0.0002000\n",
            "saving the model at the end of epoch 74, iters 0\n",
            "End of epoch 74 / 100 \t Time Taken: 2 sec\n",
            "learning rate = 0.0002000\n",
            "saving the model at the end of epoch 75, iters 0\n",
            "End of epoch 75 / 100 \t Time Taken: 7 sec\n",
            "learning rate = 0.0002000\n",
            "saving the model at the end of epoch 76, iters 0\n",
            "End of epoch 76 / 100 \t Time Taken: 8 sec\n",
            "learning rate = 0.0002000\n",
            "saving the model at the end of epoch 77, iters 0\n",
            "End of epoch 77 / 100 \t Time Taken: 1 sec\n",
            "learning rate = 0.0002000\n",
            "saving the model at the end of epoch 78, iters 0\n",
            "End of epoch 78 / 100 \t Time Taken: 11 sec\n",
            "learning rate = 0.0002000\n",
            "saving the model at the end of epoch 79, iters 0\n",
            "End of epoch 79 / 100 \t Time Taken: 1 sec\n",
            "learning rate = 0.0002000\n",
            "saving the model at the end of epoch 80, iters 0\n",
            "End of epoch 80 / 100 \t Time Taken: 8 sec\n",
            "learning rate = 0.0002000\n",
            "saving the model at the end of epoch 81, iters 0\n",
            "End of epoch 81 / 100 \t Time Taken: 2 sec\n",
            "learning rate = 0.0002000\n",
            "saving the model at the end of epoch 82, iters 0\n",
            "End of epoch 82 / 100 \t Time Taken: 10 sec\n",
            "learning rate = 0.0002000\n",
            "saving the model at the end of epoch 83, iters 0\n",
            "End of epoch 83 / 100 \t Time Taken: 1 sec\n",
            "learning rate = 0.0002000\n",
            "saving the model at the end of epoch 84, iters 0\n",
            "End of epoch 84 / 100 \t Time Taken: 5 sec\n",
            "learning rate = 0.0002000\n",
            "saving the model at the end of epoch 85, iters 0\n",
            "End of epoch 85 / 100 \t Time Taken: 7 sec\n",
            "learning rate = 0.0002000\n",
            "saving the model at the end of epoch 86, iters 0\n",
            "End of epoch 86 / 100 \t Time Taken: 7 sec\n",
            "learning rate = 0.0002000\n",
            "saving the model at the end of epoch 87, iters 0\n",
            "End of epoch 87 / 100 \t Time Taken: 7 sec\n",
            "learning rate = 0.0002000\n",
            "saving the model at the end of epoch 88, iters 0\n",
            "End of epoch 88 / 100 \t Time Taken: 1 sec\n",
            "learning rate = 0.0002000\n",
            "saving the model at the end of epoch 89, iters 0\n",
            "End of epoch 89 / 100 \t Time Taken: 8 sec\n",
            "learning rate = 0.0002000\n",
            "saving the model at the end of epoch 90, iters 0\n",
            "End of epoch 90 / 100 \t Time Taken: 6 sec\n",
            "learning rate = 0.0002000\n",
            "saving the model at the end of epoch 91, iters 0\n",
            "End of epoch 91 / 100 \t Time Taken: 1 sec\n",
            "learning rate = 0.0002000\n",
            "saving the model at the end of epoch 92, iters 0\n",
            "End of epoch 92 / 100 \t Time Taken: 7 sec\n",
            "learning rate = 0.0002000\n",
            "saving the model at the end of epoch 93, iters 0\n",
            "End of epoch 93 / 100 \t Time Taken: 1 sec\n",
            "learning rate = 0.0002000\n",
            "saving the model at the end of epoch 94, iters 0\n",
            "End of epoch 94 / 100 \t Time Taken: 8 sec\n",
            "learning rate = 0.0002000\n",
            "saving the model at the end of epoch 95, iters 0\n",
            "End of epoch 95 / 100 \t Time Taken: 5 sec\n",
            "learning rate = 0.0002000\n",
            "saving the model at the end of epoch 96, iters 0\n",
            "End of epoch 96 / 100 \t Time Taken: 2 sec\n",
            "learning rate = 0.0002000\n",
            "saving the model at the end of epoch 97, iters 0\n",
            "End of epoch 97 / 100 \t Time Taken: 11 sec\n",
            "learning rate = 0.0002000\n",
            "saving the model at the end of epoch 98, iters 0\n",
            "End of epoch 98 / 100 \t Time Taken: 1 sec\n",
            "learning rate = 0.0002000\n",
            "saving the model at the end of epoch 99, iters 0\n",
            "End of epoch 99 / 100 \t Time Taken: 9 sec\n",
            "learning rate = 0.0002000\n",
            "saving the model at the end of epoch 100, iters 0\n",
            "End of epoch 100 / 100 \t Time Taken: 1 sec\n",
            "learning rate = 0.0002000\n"
          ]
        }
      ]
    },
    {
      "cell_type": "code",
      "metadata": {
        "id": "WCqhRy4KCJw5",
        "colab": {
          "base_uri": "https://localhost:8080/"
        },
        "outputId": "69b8d725-ddd6-45a8-ebf0-402fccb8f0bf"
      },
      "source": [
        "#! add-apt-repository ppa:graphics-drivers/ppa\n",
        "#! apt update\n",
        "#! apt install nvidia-384 nvidia-384-dev\n",
        "#! apt-get install g++ freeglut3-dev build-essential libx11-dev libxmu-dev libxi-dev libglu1-mesa libglu1-mesa-dev"
      ],
      "execution_count": 12,
      "outputs": [
        {
          "metadata": {
            "tags": null
          },
          "name": "stdout",
          "output_type": "stream",
          "text": [
            " Fresh drivers from upstream, currently shipping Nvidia.\n",
            "\n",
            "## Current Status\n",
            "\n",
            "Current long-lived branch release: `nvidia-430` (430.40)\n",
            "Dropped support for Fermi series (https://nvidia.custhelp.com/app/answers/detail/a_id/4656)\n",
            "\n",
            "Old long-lived branch release: `nvidia-390` (390.129)\n",
            "\n",
            "For GF1xx GPUs use `nvidia-390` (390.129)\n",
            "For G8x, G9x and GT2xx GPUs use `nvidia-340` (340.107)\n",
            "For NV4x and G7x GPUs use `nvidia-304` (304.137) End-Of-Life!\n",
            "\n",
            "Support timeframes for Unix legacy GPU releases:\n",
            "https://nvidia.custhelp.com/app/answers/detail/a_id/3142\n",
            "\n",
            "## What we're working on right now:\n",
            "\n",
            "- Normal driver updates\n",
            "- Help Wanted: Mesa Updates for Intel/AMD users, ping us if you want to help do this work, we're shorthanded.\n",
            "\n",
            "## WARNINGS:\n",
            "\n",
            "This PPA is currently in testing, you should be experienced with packaging before you dive in here:\n",
            "\n",
            "Volunteers welcome!\n",
            "\n",
            "### How you can help:\n",
            "\n",
            "## Install PTS and benchmark your gear:\n",
            "\n",
            "    sudo apt-get install phoronix-test-suite\n",
            "\n",
            "Run the benchmark:\n",
            "\n",
            "    phoronix-test-suite default-benchmark openarena xonotic tesseract gputest unigine-valley\n",
            "\n",
            "and then say yes when it asks you to submit your results to openbechmarking.org. Then grab a cup of coffee, it takes a bit for the benchmarks to run. Depending on the version of Ubuntu you're using it might preferable for you to grabs PTS from upstream directly: http://www.phoronix-test-suite.com/?k=downloads\n",
            "\n",
            "## Share your results with the community:\n",
            "\n",
            "Post a link to your results (or any other feedback to): https://launchpad.net/~graphics-drivers-testers\n",
            "\n",
            "Remember to rerun and resubmit the benchmarks after driver upgrades, this will allow us to gather a bunch of data on performance that we can share with everybody.\n",
            "\n",
            "If you run into old documentation referring to other PPAs, you can help us by consolidating references to this PPA.\n",
            "\n",
            "If someone wants to go ahead and start prototyping on `software-properties-gtk` on what the GUI should look like, please start hacking!\n",
            "\n",
            "## Help us Help You!\n",
            "\n",
            "We use the donation funds to get the developers hardware to test and upload these drivers, please consider donating to the \"community\" slider on the donation page if you're loving this PPA:\n",
            "\n",
            "http://www.ubuntu.com/download/desktop/contribute\n",
            " More info: https://launchpad.net/~graphics-drivers/+archive/ubuntu/ppa\n",
            "Press [ENTER] to continue or Ctrl-c to cancel adding it.\n",
            "\n",
            "\n",
            "^C\n",
            "Get:1 file:/var/cuda-repo-8-0-local-ga2  InRelease\n",
            "Ign:1 file:/var/cuda-repo-8-0-local-ga2  InRelease\n",
            "Get:2 file:/var/cuda-repo-8-0-local-ga2  Release [574 B]\n",
            "Get:2 file:/var/cuda-repo-8-0-local-ga2  Release [574 B]\n",
            "Hit:3 http://security.ubuntu.com/ubuntu bionic-security InRelease\n",
            "Hit:4 https://cloud.r-project.org/bin/linux/ubuntu bionic-cran40/ InRelease\n",
            "Ign:5 https://developer.download.nvidia.com/compute/cuda/repos/ubuntu1804/x86_64  InRelease\n",
            "Ign:6 https://developer.download.nvidia.com/compute/machine-learning/repos/ubuntu1804/x86_64  InRelease\n",
            "Hit:7 https://developer.download.nvidia.com/compute/cuda/repos/ubuntu1804/x86_64  Release\n",
            "Hit:8 http://ppa.launchpad.net/c2d4u.team/c2d4u4.0+/ubuntu bionic InRelease\n",
            "Hit:9 https://developer.download.nvidia.com/compute/machine-learning/repos/ubuntu1804/x86_64  Release\n",
            "Hit:11 http://archive.ubuntu.com/ubuntu bionic InRelease\n",
            "Hit:12 http://archive.ubuntu.com/ubuntu bionic-updates InRelease\n",
            "Hit:13 http://ppa.launchpad.net/cran/libgit2/ubuntu bionic InRelease\n",
            "Hit:14 http://archive.ubuntu.com/ubuntu bionic-backports InRelease\n",
            "Hit:15 http://ppa.launchpad.net/deadsnakes/ppa/ubuntu bionic InRelease\n",
            "Hit:17 http://ppa.launchpad.net/graphics-drivers/ppa/ubuntu bionic InRelease\n",
            "Reading package lists... Done\n",
            "Building dependency tree       \n",
            "Reading state information... Done\n",
            "57 packages can be upgraded. Run 'apt list --upgradable' to see them.\n",
            "Reading package lists... Done\n",
            "Building dependency tree       \n",
            "Reading state information... Done\n",
            "The following additional packages will be installed:\n",
            "  nvidia-driver-418 nvidia-driver-430\n",
            "The following NEW packages will be installed:\n",
            "  nvidia-384 nvidia-384-dev nvidia-driver-418 nvidia-driver-430\n",
            "0 upgraded, 4 newly installed, 0 to remove and 57 not upgraded.\n",
            "Need to get 27.5 kB of archives.\n",
            "After this operation, 74.8 kB of additional disk space will be used.\n",
            "Get:1 https://developer.download.nvidia.com/compute/cuda/repos/ubuntu1804/x86_64  nvidia-driver-430 470.57.02-0ubuntu1 [6,880 B]\n",
            "Get:2 https://developer.download.nvidia.com/compute/cuda/repos/ubuntu1804/x86_64  nvidia-384 418.211.00-0ubuntu1 [6,864 B]\n",
            "Get:3 https://developer.download.nvidia.com/compute/cuda/repos/ubuntu1804/x86_64  nvidia-384-dev 418.211.00-0ubuntu1 [6,872 B]\n",
            "Get:4 http://archive.ubuntu.com/ubuntu bionic-updates/restricted amd64 nvidia-driver-418 amd64 430.50-0ubuntu0.18.04.2 [6,836 B]\n",
            "Fetched 27.5 kB in 0s (123 kB/s)\n",
            "Selecting previously unselected package nvidia-driver-430.\n",
            "(Reading database ... 164108 files and directories currently installed.)\n",
            "Preparing to unpack .../nvidia-driver-430_470.57.02-0ubuntu1_amd64.deb ...\n",
            "Unpacking nvidia-driver-430 (470.57.02-0ubuntu1) ...\n",
            "Selecting previously unselected package nvidia-driver-418.\n",
            "Preparing to unpack .../nvidia-driver-418_430.50-0ubuntu0.18.04.2_amd64.deb ...\n",
            "Unpacking nvidia-driver-418 (430.50-0ubuntu0.18.04.2) ...\n",
            "Selecting previously unselected package nvidia-384.\n",
            "Preparing to unpack .../nvidia-384_418.211.00-0ubuntu1_amd64.deb ...\n",
            "Unpacking nvidia-384 (418.211.00-0ubuntu1) ...\n",
            "Selecting previously unselected package nvidia-384-dev.\n",
            "Preparing to unpack .../nvidia-384-dev_418.211.00-0ubuntu1_amd64.deb ...\n",
            "Unpacking nvidia-384-dev (418.211.00-0ubuntu1) ...\n",
            "Setting up nvidia-driver-430 (470.57.02-0ubuntu1) ...\n",
            "Setting up nvidia-driver-418 (430.50-0ubuntu0.18.04.2) ...\n",
            "Setting up nvidia-384-dev (418.211.00-0ubuntu1) ...\n",
            "Setting up nvidia-384 (418.211.00-0ubuntu1) ...\n",
            "Reading package lists... Done\n",
            "Building dependency tree       \n",
            "Reading state information... Done\n",
            "build-essential is already the newest version (12.4ubuntu1).\n",
            "libglu1-mesa is already the newest version (9.0.0-2.1build1).\n",
            "libglu1-mesa set to manually installed.\n",
            "libglu1-mesa-dev is already the newest version (9.0.0-2.1build1).\n",
            "libglu1-mesa-dev set to manually installed.\n",
            "libxi-dev is already the newest version (2:1.7.9-1).\n",
            "libxi-dev set to manually installed.\n",
            "libxmu-dev is already the newest version (2:1.1.2-2).\n",
            "libxmu-dev set to manually installed.\n",
            "freeglut3-dev is already the newest version (2.8.1-3).\n",
            "freeglut3-dev set to manually installed.\n",
            "g++ is already the newest version (4:7.4.0-1ubuntu2.3).\n",
            "g++ set to manually installed.\n",
            "libx11-dev is already the newest version (2:1.6.4-3ubuntu0.4).\n",
            "libx11-dev set to manually installed.\n",
            "0 upgraded, 0 newly installed, 0 to remove and 57 not upgraded.\n"
          ]
        }
      ]
    },
    {
      "cell_type": "code",
      "metadata": {
        "colab": {
          "base_uri": "https://localhost:8080/"
        },
        "id": "oIR4eFmeBCny",
        "outputId": "e417b7dc-9fff-484e-d1d6-7d5c98ed4012"
      },
      "source": [
        "!nvidia-smi"
      ],
      "execution_count": 13,
      "outputs": [
        {
          "metadata": {
            "tags": null
          },
          "name": "stdout",
          "output_type": "stream",
          "text": [
            "Mon Sep 20 22:18:04 2021       \n",
            "+-----------------------------------------------------------------------------+\n",
            "| NVIDIA-SMI 470.63.01    Driver Version: 460.32.03    CUDA Version: 11.2     |\n",
            "|-------------------------------+----------------------+----------------------+\n",
            "| GPU  Name        Persistence-M| Bus-Id        Disp.A | Volatile Uncorr. ECC |\n",
            "| Fan  Temp  Perf  Pwr:Usage/Cap|         Memory-Usage | GPU-Util  Compute M. |\n",
            "|                               |                      |               MIG M. |\n",
            "|===============================+======================+======================|\n",
            "|   0  Tesla K80           Off  | 00000000:00:04.0 Off |                    0 |\n",
            "| N/A   52C    P8    25W / 149W |      0MiB / 11441MiB |      0%      Default |\n",
            "|                               |                      |                  N/A |\n",
            "+-------------------------------+----------------------+----------------------+\n",
            "                                                                               \n",
            "+-----------------------------------------------------------------------------+\n",
            "| Processes:                                                                  |\n",
            "|  GPU   GI   CI        PID   Type   Process name                  GPU Memory |\n",
            "|        ID   ID                                                   Usage      |\n",
            "|=============================================================================|\n",
            "|  No running processes found                                                 |\n",
            "+-----------------------------------------------------------------------------+\n"
          ]
        }
      ]
    },
    {
      "cell_type": "code",
      "metadata": {
        "colab": {
          "base_uri": "https://localhost:8080/"
        },
        "id": "B3W2h50q7vOH",
        "outputId": "9e7912c9-509a-4457-d81b-cfc16be7d45c"
      },
      "source": [
        "!pip uninstall tensorflow"
      ],
      "execution_count": 14,
      "outputs": [
        {
          "metadata": {
            "tags": null
          },
          "name": "stdout",
          "output_type": "stream",
          "text": [
            "Uninstalling tensorflow-1.4.0:\n",
            "  Would remove:\n",
            "    /root/.local/bin/saved_model_cli\n",
            "    /root/.local/bin/tensorboard\n",
            "    /root/.local/lib/python2.7/site-packages/external/*\n",
            "    /root/.local/lib/python2.7/site-packages/tensorflow-1.4.0.dist-info/*\n",
            "    /root/.local/lib/python2.7/site-packages/tensorflow/*\n",
            "Proceed (y/n)? \u001b[31m  ERROR: Operation cancelled by user\u001b[0m\n"
          ]
        }
      ]
    },
    {
      "cell_type": "code",
      "metadata": {
        "colab": {
          "base_uri": "https://localhost:8080/"
        },
        "id": "5WnIp35X70Gp",
        "outputId": "2d458d70-0086-452b-b221-2cbdb6cd1995"
      },
      "source": [
        "!pip install --user --upgrade tensorflow==1.4"
      ],
      "execution_count": 15,
      "outputs": [
        {
          "metadata": {
            "tags": null
          },
          "name": "stdout",
          "output_type": "stream",
          "text": [
            "Requirement already up-to-date: tensorflow==1.4 in /root/.local/lib/python2.7/site-packages (1.4.0)\n",
            "Requirement already satisfied, skipping upgrade: tensorflow-tensorboard<0.5.0,>=0.4.0rc1 in /root/.local/lib/python2.7/site-packages (from tensorflow==1.4) (0.4.0)\n",
            "Requirement already satisfied, skipping upgrade: mock>=2.0.0 in /usr/local/lib/python2.7/dist-packages (from tensorflow==1.4) (2.0.0)\n",
            "Requirement already satisfied, skipping upgrade: enum34>=1.1.6 in /usr/local/lib/python2.7/dist-packages (from tensorflow==1.4) (1.1.6)\n",
            "Requirement already satisfied, skipping upgrade: protobuf>=3.3.0 in /usr/local/lib/python2.7/dist-packages (from tensorflow==1.4) (3.8.0)\n",
            "Requirement already satisfied, skipping upgrade: wheel in /usr/local/lib/python2.7/dist-packages (from tensorflow==1.4) (0.37.0)\n",
            "Requirement already satisfied, skipping upgrade: backports.weakref>=1.0rc1 in /usr/local/lib/python2.7/dist-packages (from tensorflow==1.4) (1.0.post1)\n",
            "Requirement already satisfied, skipping upgrade: six>=1.10.0 in /usr/local/lib/python2.7/dist-packages (from tensorflow==1.4) (1.15.0)\n",
            "Requirement already satisfied, skipping upgrade: numpy>=1.12.1 in /usr/local/lib/python2.7/dist-packages (from tensorflow==1.4) (1.16.4)\n",
            "Requirement already satisfied, skipping upgrade: bleach==1.5.0 in /root/.local/lib/python2.7/site-packages (from tensorflow-tensorboard<0.5.0,>=0.4.0rc1->tensorflow==1.4) (1.5.0)\n",
            "Requirement already satisfied, skipping upgrade: futures>=3.1.1; python_version < \"3.2\" in /usr/local/lib/python2.7/dist-packages (from tensorflow-tensorboard<0.5.0,>=0.4.0rc1->tensorflow==1.4) (3.2.0)\n",
            "Requirement already satisfied, skipping upgrade: html5lib==0.9999999 in /root/.local/lib/python2.7/site-packages (from tensorflow-tensorboard<0.5.0,>=0.4.0rc1->tensorflow==1.4) (0.9999999)\n",
            "Requirement already satisfied, skipping upgrade: werkzeug>=0.11.10 in /usr/local/lib/python2.7/dist-packages (from tensorflow-tensorboard<0.5.0,>=0.4.0rc1->tensorflow==1.4) (0.15.5)\n",
            "Requirement already satisfied, skipping upgrade: markdown>=2.6.8 in /usr/local/lib/python2.7/dist-packages (from tensorflow-tensorboard<0.5.0,>=0.4.0rc1->tensorflow==1.4) (3.1.1)\n",
            "Requirement already satisfied, skipping upgrade: funcsigs>=1; python_version < \"3.3\" in /usr/local/lib/python2.7/dist-packages (from mock>=2.0.0->tensorflow==1.4) (1.0.2)\n",
            "Requirement already satisfied, skipping upgrade: pbr>=0.11 in /usr/local/lib/python2.7/dist-packages (from mock>=2.0.0->tensorflow==1.4) (5.4.0)\n",
            "Requirement already satisfied, skipping upgrade: setuptools in /usr/local/lib/python2.7/dist-packages (from protobuf>=3.3.0->tensorflow==1.4) (44.1.1)\n"
          ]
        }
      ]
    },
    {
      "cell_type": "code",
      "metadata": {
        "id": "anXWCxoM7DXT"
      },
      "source": [
        "import tensorflow as tf\n"
      ],
      "execution_count": 16,
      "outputs": []
    },
    {
      "cell_type": "code",
      "metadata": {
        "colab": {
          "base_uri": "https://localhost:8080/"
        },
        "id": "OT572EKu7Ax_",
        "outputId": "019e384b-d904-4f8d-e498-bb9865731fc8"
      },
      "source": [
        "print(tf.__version__)"
      ],
      "execution_count": 17,
      "outputs": [
        {
          "metadata": {
            "tags": null
          },
          "name": "stdout",
          "output_type": "stream",
          "text": [
            "1.4.0\n"
          ]
        }
      ]
    },
    {
      "cell_type": "code",
      "metadata": {
        "colab": {
          "base_uri": "https://localhost:8080/"
        },
        "id": "iOeIGkCYTQff",
        "outputId": "f5cd7b55-0eaa-41ce-b323-00bf2d52db1a"
      },
      "source": [
        "!python test.py --dataroot training_handbags_pretrain/ --name exp_name --epoch epoch_50 --netG bFT_unet --n_layers 7 --dataset_mode texture --input_nc 1 --guide_nc 4 --output_nc 3 --checkpoints_dir ./texture_checkpoints --task texture --results_dir ./texture_results\n"
      ],
      "execution_count": 22,
      "outputs": [
        {
          "output_type": "stream",
          "name": "stdout",
          "text": [
            "2021-09-20 22:39:12.211450: I tensorflow/core/platform/cpu_feature_guard.cc:137] Your CPU supports instructions that this TensorFlow binary was not compiled to use: SSE4.1 SSE4.2 AVX AVX2 FMA\n",
            "----------------- Options ---------------\n",
            "             aspect_ratio: 1.0                           \n",
            "               batch_size: 1                             \n",
            "          checkpoints_dir: ./texture_checkpoints         \t[default: ./checkpoints]\n",
            "                 dataroot: training_handbags_pretrain/   \t[default: None]\n",
            "             dataset_mode: texture                       \t[default: single]\n",
            "          depthTask_scale: 16                            \n",
            "                    epoch: epoch_50                      \t[default: latest]\n",
            "                     eval: False                         \n",
            "                  gpu_ids: 0                             \n",
            "                 guide_nc: 4                             \t[default: 3]\n",
            "                init_gain: 0.02                          \n",
            "                init_type: normal                        \n",
            "                 input_nc: 1                             \t[default: 3]\n",
            "      input_texture_patch: original_image                \n",
            "                  isTrain: False                         \t[default: None]\n",
            "         max_dataset_size: inf                           \n",
            "                    model: test                          \n",
            "             model_suffix:                               \n",
            "                 n_layers: 7                             \t[default: 8]\n",
            "               n_layers_D: 3                             \n",
            "                     name: exp_name                      \t[default: experiment_name]\n",
            "                      ndf: 64                            \n",
            "                     netD: basic                         \n",
            "                     netG: bFT_unet                      \t[default: bFT_resnet]\n",
            "                      ngf: 64                            \n",
            "                     norm: instance                      \n",
            "                    ntest: inf                           \n",
            "  num_input_texture_patch: 1                             \n",
            "                 num_test: inf                           \n",
            "              num_threads: 4                             \n",
            "                output_nc: 3                             \n",
            "           patch_size_max: 40                            \n",
            "           patch_size_min: 20                            \n",
            "                    phase: test                          \n",
            "              results_dir: ./texture_results             \t[default: ./results/]\n",
            "           serial_batches: False                         \n",
            "                     task: texture                       \t[default: None]\n",
            "                  use_GAN: False                         \n",
            "   use_segmentation_patch: True                          \n",
            "----------------- End -------------------\n",
            "/usr/local/lib/python2.7/dist-packages/torchvision/transforms/transforms.py:188: UserWarning: The use of the transforms.Scale transform is deprecated, please use transforms.Resize instead.\n",
            "  \"please use transforms.Resize instead.\")\n",
            "dataset [TextureDataset] was created\n",
            "initialize network with normal\n",
            "model [TestModel] was created\n",
            "loading the model from ./texture_checkpoints/exp_name/epoch_50_net_G.pth\n",
            "---------- Networks initialized -------------\n",
            "[Network G] Total number of parameters : 54.516 M\n",
            "-----------------------------------------------\n",
            "Results saved in ./texture_results\n"
          ]
        }
      ]
    },
    {
      "cell_type": "code",
      "metadata": {
        "colab": {
          "base_uri": "https://localhost:8080/"
        },
        "id": "kueQMaIRXoim",
        "outputId": "dd313b2d-71b9-41ae-bb39-05c454527fe6"
      },
      "source": [
        "!python evaluate.py --dataroot training_handbags_pretrain/ --name texture_bags --netG bFT_unet --n_layers 7 --dataset_mode texture --input_nc 1 --guide_nc 4 --output_nc 3 --checkpoints_dir ./checkpoints/pretrained/ --task texture --results_dir ./texture_results\n"
      ],
      "execution_count": 24,
      "outputs": [
        {
          "output_type": "stream",
          "name": "stdout",
          "text": [
            "2021-09-20 22:56:09.055136: I tensorflow/core/platform/cpu_feature_guard.cc:137] Your CPU supports instructions that this TensorFlow binary was not compiled to use: SSE4.1 SSE4.2 AVX AVX2 FMA\n",
            "----------------- Options ---------------\n",
            "             aspect_ratio: 1.0                           \n",
            "               batch_size: 1                             \n",
            "          checkpoints_dir: ./checkpoints/pretrained/     \t[default: ./checkpoints]\n",
            "                 dataroot: training_handbags_pretrain/   \t[default: None]\n",
            "             dataset_mode: texture                       \t[default: single]\n",
            "          depthTask_scale: 16                            \n",
            "                    epoch: latest                        \n",
            "                     eval: False                         \n",
            "                  gpu_ids: 0                             \n",
            "                 guide_nc: 4                             \t[default: 3]\n",
            "                init_gain: 0.02                          \n",
            "                init_type: normal                        \n",
            "                 input_nc: 1                             \t[default: 3]\n",
            "      input_texture_patch: original_image                \n",
            "                  isTrain: False                         \t[default: None]\n",
            "         max_dataset_size: inf                           \n",
            "                    model: test                          \n",
            "             model_suffix:                               \n",
            "                 n_layers: 7                             \t[default: 8]\n",
            "               n_layers_D: 3                             \n",
            "                     name: texture_bags                  \t[default: experiment_name]\n",
            "                      ndf: 64                            \n",
            "                     netD: basic                         \n",
            "                     netG: bFT_unet                      \t[default: bFT_resnet]\n",
            "                      ngf: 64                            \n",
            "                     norm: instance                      \n",
            "                    ntest: inf                           \n",
            "  num_input_texture_patch: 1                             \n",
            "                 num_test: inf                           \n",
            "              num_threads: 4                             \n",
            "                output_nc: 3                             \n",
            "           patch_size_max: 40                            \n",
            "           patch_size_min: 20                            \n",
            "                    phase: test                          \n",
            "              results_dir: ./texture_results             \t[default: ./results/]\n",
            "           serial_batches: False                         \n",
            "                     task: texture                       \t[default: None]\n",
            "                  use_GAN: False                         \n",
            "   use_segmentation_patch: True                          \n",
            "----------------- End -------------------\n",
            "/usr/local/lib/python2.7/dist-packages/torchvision/transforms/transforms.py:188: UserWarning: The use of the transforms.Scale transform is deprecated, please use transforms.Resize instead.\n",
            "  \"please use transforms.Resize instead.\")\n",
            "dataset [TextureDataset] was created\n",
            "initialize network with normal\n",
            "model [TestModel] was created\n",
            "loading the model from ./checkpoints/pretrained/texture_bags/latest_net_G.pth\n",
            "Traceback (most recent call last):\n",
            "  File \"evaluate.py\", line 40, in <module>\n",
            "    model.setup(opt)\n",
            "  File \"/content/drive/My Drive/Guided-pix2pix/models/base_model.py\", line 40, in setup\n",
            "    self.load_networks(opt.epoch)\n",
            "  File \"/content/drive/My Drive/Guided-pix2pix/models/base_model.py\", line 118, in load_networks\n",
            "    state_dict = torch.load(load_path, map_location=str(self.device))\n",
            "  File \"/usr/local/lib/python2.7/dist-packages/torch/serialization.py\", line 356, in load\n",
            "    f = open(f, 'rb')\n",
            "IOError: [Errno 2] No such file or directory: './checkpoints/pretrained/texture_bags/latest_net_G.pth'\n"
          ]
        }
      ]
    }
  ]
}